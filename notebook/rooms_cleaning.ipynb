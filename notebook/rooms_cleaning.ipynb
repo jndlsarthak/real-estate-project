{
 "cells": [
  {
   "cell_type": "code",
   "execution_count": 55,
   "id": "e5a0d7c4",
   "metadata": {},
   "outputs": [],
   "source": [
    "import pandas as pd\n",
    "df= pd.read_csv(\"../data/final_processed_real_estate_data.csv\")"
   ]
  },
  {
   "cell_type": "code",
   "execution_count": 56,
   "id": "e74c5c1b",
   "metadata": {},
   "outputs": [
    {
     "name": "stdout",
     "output_type": "stream",
     "text": [
      "[' Two-room' ' Three-room apartment' ' One-room' 'Unknown'\n",
      " ' Four-room apartment' ' Multi-room']\n"
     ]
    }
   ],
   "source": [
    "print(df[\" Number of rooms\"].unique()) #checking for unique values in the column"
   ]
  },
  {
   "cell_type": "code",
   "execution_count": 57,
   "id": "ce6e0adb",
   "metadata": {},
   "outputs": [],
   "source": [
    "room_map = { \n",
    "    \"One\" : 1, \n",
    "    \"Two\": 2, \n",
    "    \"Three\": 3, \n",
    "    \"Four\": 4, \n",
    "    \"Multi\": 5,\n",
    "    \"Unknown\": 0\n",
    "}"
   ]
  },
  {
   "cell_type": "code",
   "execution_count": 58,
   "id": "f5664dac",
   "metadata": {},
   "outputs": [],
   "source": [
    "def extract_room_count(text):\n",
    "    if pd.isna(text):\n",
    "        return None\n",
    "    for word, num in room_map.items():\n",
    "        if word in text:\n",
    "            return num\n",
    "    return None  # if no match found\n",
    "\n",
    "df[\" Number of rooms\"] = df[\" Number of rooms\"].apply(extract_room_count)\n"
   ]
  },
  {
   "cell_type": "code",
   "execution_count": 59,
   "id": "84ccb606",
   "metadata": {},
   "outputs": [],
   "source": [
    "bins = [ 0, 5, 7, 9, 11, 15, 20, 35]\n",
    "labels = ['<5', '5-7', '7-9', '9-11', '11-15', '15-20', '20+']\n"
   ]
  },
  {
   "cell_type": "code",
   "execution_count": 60,
   "id": "22c21974",
   "metadata": {},
   "outputs": [],
   "source": [
    "df[' Kitchen Area'] = pd.cut(df[' Kitchen area, m2'], bins=bins, labels=labels, include_lowest=True)\n"
   ]
  },
  {
   "cell_type": "code",
   "execution_count": 61,
   "id": "b7af174b",
   "metadata": {},
   "outputs": [
    {
     "data": {
      "text/html": [
       "<div>\n",
       "<style scoped>\n",
       "    .dataframe tbody tr th:only-of-type {\n",
       "        vertical-align: middle;\n",
       "    }\n",
       "\n",
       "    .dataframe tbody tr th {\n",
       "        vertical-align: top;\n",
       "    }\n",
       "\n",
       "    .dataframe thead th {\n",
       "        text-align: right;\n",
       "    }\n",
       "</style>\n",
       "<table border=\"1\" class=\"dataframe\">\n",
       "  <thead>\n",
       "    <tr style=\"text-align: right;\">\n",
       "      <th></th>\n",
       "      <th>Date</th>\n",
       "      <th>Address</th>\n",
       "      <th>Number of rooms</th>\n",
       "      <th>Price, RUR</th>\n",
       "      <th>Layout</th>\n",
       "      <th>Floor</th>\n",
       "      <th>Total area, m2</th>\n",
       "      <th>Living area, m2</th>\n",
       "      <th>Kitchen area, m2</th>\n",
       "      <th>Additional description</th>\n",
       "      <th>Contacts</th>\n",
       "      <th>Address on the website</th>\n",
       "      <th>Kitchen Area</th>\n",
       "    </tr>\n",
       "  </thead>\n",
       "  <tbody>\n",
       "    <tr>\n",
       "      <th>0</th>\n",
       "      <td>27.06.2025 16:20</td>\n",
       "      <td>Lenin Ave., 3</td>\n",
       "      <td>2</td>\n",
       "      <td>2900000.0</td>\n",
       "      <td>Khrushchevka</td>\n",
       "      <td>4/5</td>\n",
       "      <td>45.0</td>\n",
       "      <td>27.0</td>\n",
       "      <td>6.0</td>\n",
       "      <td>🏠 Cozy 2-room apartment in a brick house for s...</td>\n",
       "      <td>Sergey tel. 89512347007</td>\n",
       "      <td>http://magnitogorsk-citystar.ru/realty/prodaz...</td>\n",
       "      <td>5-7</td>\n",
       "    </tr>\n",
       "    <tr>\n",
       "      <th>1</th>\n",
       "      <td>26.04.2025 05:00</td>\n",
       "      <td>Soviet, 168</td>\n",
       "      <td>2</td>\n",
       "      <td>3600000.0</td>\n",
       "      <td>Not specified</td>\n",
       "      <td>5/9</td>\n",
       "      <td>50.0</td>\n",
       "      <td>32.0</td>\n",
       "      <td>8.5</td>\n",
       "      <td>id:42700. URGENT SALE!!!_x000D_ _x000D_ FOR SA...</td>\n",
       "      <td>NATALIA SHABUROVA, RioLux tel. 79090950992</td>\n",
       "      <td>http://magnitogorsk-citystar.ru/realty/prodaz...</td>\n",
       "      <td>7-9</td>\n",
       "    </tr>\n",
       "    <tr>\n",
       "      <th>2</th>\n",
       "      <td>07.06.2025 23:17</td>\n",
       "      <td>Karl Marx Ave., 191</td>\n",
       "      <td>3</td>\n",
       "      <td>6090000.0</td>\n",
       "      <td>improved</td>\n",
       "      <td>3/9</td>\n",
       "      <td>65.0</td>\n",
       "      <td>42.0</td>\n",
       "      <td>9.0</td>\n",
       "      <td>⭐ APARTMENT IN EXCELLENT CONDITION WITH MODERN...</td>\n",
       "      <td>Bayguzina Yulia Vladimirovna, Visit tel. 89128...</td>\n",
       "      <td>http://magnitogorsk-citystar.ru/realty/prodaz...</td>\n",
       "      <td>7-9</td>\n",
       "    </tr>\n",
       "    <tr>\n",
       "      <th>3</th>\n",
       "      <td>01.07.2025 11:00</td>\n",
       "      <td>Green Log St., 25</td>\n",
       "      <td>1</td>\n",
       "      <td>2090000.0</td>\n",
       "      <td>studio</td>\n",
       "      <td>8/10</td>\n",
       "      <td>24.0</td>\n",
       "      <td>18.0</td>\n",
       "      <td>18.0</td>\n",
       "      <td>💥 COZY STUDIO FOR SALE!_x000D_ _x000D_ ✅ Lamin...</td>\n",
       "      <td>Bayguzina Yulia Vladimirovna, Visit tel. 89128...</td>\n",
       "      <td>http://magnitogorsk-citystar.ru/realty/prodazh...</td>\n",
       "      <td>15-20</td>\n",
       "    </tr>\n",
       "    <tr>\n",
       "      <th>4</th>\n",
       "      <td>01.07.2025 10:08</td>\n",
       "      <td>Stalevarov st., 26</td>\n",
       "      <td>2</td>\n",
       "      <td>2620000.0</td>\n",
       "      <td>Not specified</td>\n",
       "      <td>5/5</td>\n",
       "      <td>44.1</td>\n",
       "      <td>30.0</td>\n",
       "      <td>6.0</td>\n",
       "      <td>id:43885. For sale is a cozy two-room apartmen...</td>\n",
       "      <td>Indira Magomedragimova, Rio-Lux tel. 79194042882</td>\n",
       "      <td>http://magnitogorsk-citystar.ru/realty/prodaz...</td>\n",
       "      <td>5-7</td>\n",
       "    </tr>\n",
       "  </tbody>\n",
       "</table>\n",
       "</div>"
      ],
      "text/plain": [
       "                Date               Address  Number of rooms  Price, RUR  \\\n",
       "0   27.06.2025 16:20         Lenin Ave., 3                2   2900000.0   \n",
       "1   26.04.2025 05:00           Soviet, 168                2   3600000.0   \n",
       "2   07.06.2025 23:17   Karl Marx Ave., 191                3   6090000.0   \n",
       "3   01.07.2025 11:00     Green Log St., 25                1   2090000.0   \n",
       "4   01.07.2025 10:08    Stalevarov st., 26                2   2620000.0   \n",
       "\n",
       "          Layout  Floor  Total area, m2  Living area, m2  Kitchen area, m2  \\\n",
       "0   Khrushchevka    4/5            45.0             27.0               6.0   \n",
       "1  Not specified    5/9            50.0             32.0               8.5   \n",
       "2       improved    3/9            65.0             42.0               9.0   \n",
       "3         studio   8/10            24.0             18.0              18.0   \n",
       "4  Not specified    5/5            44.1             30.0               6.0   \n",
       "\n",
       "                              Additional description  \\\n",
       "0  🏠 Cozy 2-room apartment in a brick house for s...   \n",
       "1  id:42700. URGENT SALE!!!_x000D_ _x000D_ FOR SA...   \n",
       "2  ⭐ APARTMENT IN EXCELLENT CONDITION WITH MODERN...   \n",
       "3  💥 COZY STUDIO FOR SALE!_x000D_ _x000D_ ✅ Lamin...   \n",
       "4  id:43885. For sale is a cozy two-room apartmen...   \n",
       "\n",
       "                                            Contacts  \\\n",
       "0                            Sergey tel. 89512347007   \n",
       "1         NATALIA SHABUROVA, RioLux tel. 79090950992   \n",
       "2  Bayguzina Yulia Vladimirovna, Visit tel. 89128...   \n",
       "3  Bayguzina Yulia Vladimirovna, Visit tel. 89128...   \n",
       "4   Indira Magomedragimova, Rio-Lux tel. 79194042882   \n",
       "\n",
       "                              Address on the website Kitchen Area  \n",
       "0   http://magnitogorsk-citystar.ru/realty/prodaz...          5-7  \n",
       "1   http://magnitogorsk-citystar.ru/realty/prodaz...          7-9  \n",
       "2   http://magnitogorsk-citystar.ru/realty/prodaz...          7-9  \n",
       "3  http://magnitogorsk-citystar.ru/realty/prodazh...        15-20  \n",
       "4   http://magnitogorsk-citystar.ru/realty/prodaz...          5-7  "
      ]
     },
     "execution_count": 61,
     "metadata": {},
     "output_type": "execute_result"
    }
   ],
   "source": [
    "df.head()"
   ]
  }
 ],
 "metadata": {
  "kernelspec": {
   "display_name": "base",
   "language": "python",
   "name": "python3"
  },
  "language_info": {
   "codemirror_mode": {
    "name": "ipython",
    "version": 3
   },
   "file_extension": ".py",
   "mimetype": "text/x-python",
   "name": "python",
   "nbconvert_exporter": "python",
   "pygments_lexer": "ipython3",
   "version": "3.12.7"
  }
 },
 "nbformat": 4,
 "nbformat_minor": 5
}
