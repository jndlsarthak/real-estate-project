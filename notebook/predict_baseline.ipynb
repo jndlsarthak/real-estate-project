{
 "cells": [
  {
   "cell_type": "code",
   "execution_count": 5,
   "id": "c58e7f9d",
   "metadata": {},
   "outputs": [
    {
     "name": "stdout",
     "output_type": "stream",
     "text": [
      " Dropping potential leakage column: Log_Price\n",
      "Dummy Regressor (Mean Strategy) Results:\n",
      "MAE:  1,352,127.61\n",
      "MSE:  3,252,814,346,692.91\n",
      "RMSE: 1,803,556.03\n",
      "R²:   -0.0001\n"
     ]
    }
   ],
   "source": [
    "import numpy as np\n",
    "from sklearn.dummy import DummyRegressor\n",
    "from sklearn.pipeline import Pipeline\n",
    "from sklearn.metrics import mean_absolute_error, mean_squared_error, r2_score\n",
    "import sys\n",
    "sys.path.append(\"../src\")\n",
    "from data_loader import load_data\n",
    "\n",
    "\n",
    "\n",
    "#Loading data\n",
    "X_train, X_test, y_train, y_test = load_data()\n",
    "\n",
    "#Creating pipeline\n",
    "pipeline = Pipeline([\n",
    "    (\"dummy\", DummyRegressor(strategy=\"mean\"))\n",
    "])\n",
    "\n",
    "# Training pipeline\n",
    "pipeline.fit(X_train, y_train)\n",
    "\n",
    "# Predicting\n",
    "y_pred = pipeline.predict(X_test)\n",
    "\n",
    "#Evaluating predictions\n",
    "mae = mean_absolute_error(y_test, y_pred)\n",
    "mse = mean_squared_error(y_test, y_pred)\n",
    "rmse = np.sqrt(mse)\n",
    "r2 = r2_score(y_test, y_pred)\n",
    "\n",
    "#Displaying results\n",
    "print(\"Dummy Regressor (Mean Strategy) Results:\")\n",
    "print(f\"MAE:  {mae:,.2f}\")\n",
    "print(f\"MSE:  {mse:,.2f}\")\n",
    "print(f\"RMSE: {rmse:,.2f}\")\n",
    "print(f\"R²:   {r2:.4f}\")\n"
   ]
  },
  {
   "cell_type": "markdown",
   "id": "606f5b09",
   "metadata": {},
   "source": [
    "### Baseline Prediction: Dummy Regressor\n",
    "This notebook creates a baseline model using `DummyRegressor` with `strategy=\"mean\"` wrapped inside a `Pipeline`. It loads preprocessed train-test data using `load_data()`, fits the dummy model inside a pipeline, makes predictions, and evaluates performance using MAE, MSE, RMSE, and R² metrics. The pipeline is also saved using `joblib` for future reuse. This serves as a benchmark to compare more complex models later.\n"
   ]
  },
  {
   "cell_type": "code",
   "execution_count": 6,
   "id": "62bf141d",
   "metadata": {},
   "outputs": [
    {
     "data": {
      "text/html": [
       "<div>\n",
       "<style scoped>\n",
       "    .dataframe tbody tr th:only-of-type {\n",
       "        vertical-align: middle;\n",
       "    }\n",
       "\n",
       "    .dataframe tbody tr th {\n",
       "        vertical-align: top;\n",
       "    }\n",
       "\n",
       "    .dataframe thead th {\n",
       "        text-align: right;\n",
       "    }\n",
       "</style>\n",
       "<table border=\"1\" class=\"dataframe\">\n",
       "  <thead>\n",
       "    <tr style=\"text-align: right;\">\n",
       "      <th></th>\n",
       "      <th>Actual Price</th>\n",
       "      <th>Predicted Price</th>\n",
       "    </tr>\n",
       "  </thead>\n",
       "  <tbody>\n",
       "    <tr>\n",
       "      <th>0</th>\n",
       "      <td>3140000.0</td>\n",
       "      <td>4.202679e+06</td>\n",
       "    </tr>\n",
       "    <tr>\n",
       "      <th>1</th>\n",
       "      <td>3390000.0</td>\n",
       "      <td>4.202679e+06</td>\n",
       "    </tr>\n",
       "    <tr>\n",
       "      <th>2</th>\n",
       "      <td>3400000.0</td>\n",
       "      <td>4.202679e+06</td>\n",
       "    </tr>\n",
       "    <tr>\n",
       "      <th>3</th>\n",
       "      <td>5850000.0</td>\n",
       "      <td>4.202679e+06</td>\n",
       "    </tr>\n",
       "    <tr>\n",
       "      <th>4</th>\n",
       "      <td>2490000.0</td>\n",
       "      <td>4.202679e+06</td>\n",
       "    </tr>\n",
       "    <tr>\n",
       "      <th>5</th>\n",
       "      <td>7500000.0</td>\n",
       "      <td>4.202679e+06</td>\n",
       "    </tr>\n",
       "    <tr>\n",
       "      <th>6</th>\n",
       "      <td>3200000.0</td>\n",
       "      <td>4.202679e+06</td>\n",
       "    </tr>\n",
       "    <tr>\n",
       "      <th>7</th>\n",
       "      <td>6090000.0</td>\n",
       "      <td>4.202679e+06</td>\n",
       "    </tr>\n",
       "    <tr>\n",
       "      <th>8</th>\n",
       "      <td>8640000.0</td>\n",
       "      <td>4.202679e+06</td>\n",
       "    </tr>\n",
       "    <tr>\n",
       "      <th>9</th>\n",
       "      <td>5090000.0</td>\n",
       "      <td>4.202679e+06</td>\n",
       "    </tr>\n",
       "  </tbody>\n",
       "</table>\n",
       "</div>"
      ],
      "text/plain": [
       "   Actual Price  Predicted Price\n",
       "0     3140000.0     4.202679e+06\n",
       "1     3390000.0     4.202679e+06\n",
       "2     3400000.0     4.202679e+06\n",
       "3     5850000.0     4.202679e+06\n",
       "4     2490000.0     4.202679e+06\n",
       "5     7500000.0     4.202679e+06\n",
       "6     3200000.0     4.202679e+06\n",
       "7     6090000.0     4.202679e+06\n",
       "8     8640000.0     4.202679e+06\n",
       "9     5090000.0     4.202679e+06"
      ]
     },
     "execution_count": 6,
     "metadata": {},
     "output_type": "execute_result"
    }
   ],
   "source": [
    "import pandas as pd\n",
    "\n",
    "comparison_df = pd.DataFrame({\n",
    "    \"Actual Price\": y_test.values,\n",
    "    \"Predicted Price\": y_pred\n",
    "})\n",
    "\n",
    "comparison_df.head(10)\n"
   ]
  },
  {
   "cell_type": "markdown",
   "id": "dacac5d2",
   "metadata": {},
   "source": [
    "### Actual vs Predicted Prices\n",
    "Creates a DataFrame to compare the actual and predicted house prices using the baseline model. The first 10 entries are displayed for quick inspection."
   ]
  }
 ],
 "metadata": {
  "kernelspec": {
   "display_name": "base",
   "language": "python",
   "name": "python3"
  },
  "language_info": {
   "codemirror_mode": {
    "name": "ipython",
    "version": 3
   },
   "file_extension": ".py",
   "mimetype": "text/x-python",
   "name": "python",
   "nbconvert_exporter": "python",
   "pygments_lexer": "ipython3",
   "version": "3.12.7"
  }
 },
 "nbformat": 4,
 "nbformat_minor": 5
}
